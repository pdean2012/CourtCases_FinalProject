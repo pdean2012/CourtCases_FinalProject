{
 "cells": [
  {
   "cell_type": "code",
   "execution_count": 2,
   "metadata": {},
   "outputs": [],
   "source": [
    "#THIS CODE WILL SCRAPE CRIMINAL LAW CASES\n",
    "\n",
    "# Dependencies\n",
    "from bs4 import BeautifulSoup\n",
    "from bs4.element import Comment\n",
    "import requests\n",
    "import csv\n",
    "import re\n",
    "from time import sleep\n",
    "from random import randint\n",
    "import json"
   ]
  },
  {
   "cell_type": "code",
   "execution_count": 3,
   "metadata": {},
   "outputs": [],
   "source": [
    "#Build URL of the navigation pages - this page will contain hyperlinks to actual cases.\n",
    "#e.g. if you put in 2016, it will have a page with SCC cases related to 2016. We will take those hyperlinks\n",
    "#then later use those to scrape the actual cases\n",
    "def buildurl(taxation_year):\n",
    "    url = 'https://scc-csc.lexum.com/scc-csc/16/en/'+str(taxation_year)+'/nav_su_date.do?iframe=true'\n",
    "    return url"
   ]
  },
  {
   "cell_type": "code",
   "execution_count": 6,
   "metadata": {},
   "outputs": [
    {
     "name": "stdout",
     "output_type": "stream",
     "text": [
      "Year page visited: \n",
      "2019\n",
      "Hyperlinks: \n",
      "10\n",
      "~~~\n",
      "Year page visited: \n",
      "2018\n",
      "Hyperlinks: \n",
      "0\n",
      "~~~\n",
      "Year page visited: \n",
      "2017\n",
      "Hyperlinks: \n",
      "7\n",
      "~~~\n",
      "Year page visited: \n",
      "2016\n",
      "Hyperlinks: \n",
      "5\n",
      "~~~\n",
      "Year page visited: \n",
      "2015\n",
      "Hyperlinks: \n",
      "13\n",
      "~~~\n",
      "Year page visited: \n",
      "2014\n",
      "Hyperlinks: \n",
      "25\n",
      "~~~\n",
      "Year page visited: \n",
      "2013\n",
      "Hyperlinks: \n",
      "25\n",
      "~~~\n",
      "Year page visited: \n",
      "2012\n",
      "Hyperlinks: \n",
      "25\n",
      "~~~\n"
     ]
    }
   ],
   "source": [
    "#collect a list of 100 hyperlinks related to criminal cases\n",
    "hyperlinks=[]\n",
    "totalcasesfound=0\n",
    "years = [year for year in range (2019,1980,-1)]\n",
    "for year in years:\n",
    "    url = buildurl(year)\n",
    "    response = requests.get(url)\n",
    "    \n",
    "    #collect all of the h3's - these contain hyperlinks to the cases\n",
    "    soup_object = BeautifulSoup(response.text, 'html.parser')\n",
    "    findresult=soup_object.findAll(\"h3\")\n",
    "    \n",
    "    #iterate through h3's and take the href extension\n",
    "    for item in findresult:\n",
    "        hyperlinks.append(item.find(\"a\")['href'])\n",
    "    \n",
    "    print(\"Year page visited: \")\n",
    "    print(year)\n",
    "    print(\"Hyperlinks: \")\n",
    "    print(len(findresult))\n",
    "    print('~~~')\n",
    "    sleep(1)\n",
    "    \n",
    "    totalcasesfound = totalcasesfound+len(findresult)\n",
    "    \n",
    "    if totalcasesfound > 100:\n",
    "        break\n",
    "\n",
    "hyperlinksjson = {\"hyperlinks_criminal\":hyperlinks}        \n",
    "\n",
    "with open('TestData/criminal_hyperlinks.txt', 'w') as outfile:\n",
    "    json.dump(hyperlinksjson, outfile)"
   ]
  },
  {
   "cell_type": "code",
   "execution_count": 7,
   "metadata": {},
   "outputs": [
    {
     "data": {
      "text/plain": [
       "110"
      ]
     },
     "execution_count": 7,
     "metadata": {},
     "output_type": "execute_result"
    }
   ],
   "source": [
    "len(hyperlinks)"
   ]
  },
  {
   "cell_type": "code",
   "execution_count": 49,
   "metadata": {},
   "outputs": [
    {
     "data": {
      "text/plain": [
       "39"
      ]
     },
     "execution_count": 49,
     "metadata": {},
     "output_type": "execute_result"
    }
   ],
   "source": [
    "years = [year for year in range (1915,1876,-1)]\n",
    "len(years)\n"
   ]
  },
  {
   "cell_type": "code",
   "execution_count": 18,
   "metadata": {},
   "outputs": [],
   "source": [
    "with open('TestData/final_project_data/SCChyperlinks.txt', 'w') as outfile:\n",
    "    json.dump(scchyperlinks, outfile)"
   ]
  },
  {
   "cell_type": "code",
   "execution_count": 17,
   "metadata": {},
   "outputs": [],
   "source": [
    "scchyperlinks = scclinks[\"SCChyperlinks\"][:100]"
   ]
  },
  {
   "cell_type": "code",
   "execution_count": null,
   "metadata": {},
   "outputs": [],
   "source": []
  },
  {
   "cell_type": "code",
   "execution_count": null,
   "metadata": {},
   "outputs": [],
   "source": []
  }
 ],
 "metadata": {
  "kernelspec": {
   "display_name": "Python 3",
   "language": "python",
   "name": "python3"
  },
  "language_info": {
   "codemirror_mode": {
    "name": "ipython",
    "version": 3
   },
   "file_extension": ".py",
   "mimetype": "text/x-python",
   "name": "python",
   "nbconvert_exporter": "python",
   "pygments_lexer": "ipython3",
   "version": "3.7.3"
  }
 },
 "nbformat": 4,
 "nbformat_minor": 2
}
