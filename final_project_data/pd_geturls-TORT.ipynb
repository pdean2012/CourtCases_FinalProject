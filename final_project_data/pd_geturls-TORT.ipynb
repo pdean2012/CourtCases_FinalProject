{
 "cells": [
  {
   "cell_type": "code",
   "execution_count": 1,
   "metadata": {},
   "outputs": [],
   "source": [
    "#THIS CODE WILL SCRAPE TORT LAW CASES\n",
    "\n",
    "# Dependencies\n",
    "from bs4 import BeautifulSoup\n",
    "from bs4.element import Comment\n",
    "import requests\n",
    "import csv\n",
    "import re\n",
    "from time import sleep\n",
    "from random import randint\n",
    "import json"
   ]
  },
  {
   "cell_type": "code",
   "execution_count": 2,
   "metadata": {},
   "outputs": [],
   "source": [
    "#Build URL of the navigation pages - this page will contain hyperlinks to actual cases.\n",
    "#e.g. if you put in 2016, it will have a page with SCC cases related to 2016. We will take those hyperlinks\n",
    "#then later use those to scrape the actual cases\n",
    "def buildurl(taxation_year):\n",
    "    url = 'https://scc-csc.lexum.com/scc-csc/21/en/'+str(taxation_year)+'/nav_su_date.do?iframe=true'\n",
    "    return url"
   ]
  },
  {
   "cell_type": "code",
   "execution_count": 4,
   "metadata": {},
   "outputs": [
    {
     "name": "stdout",
     "output_type": "stream",
     "text": [
      "Year page visited: \n",
      "2019\n",
      "Hyperlinks: \n",
      "0\n",
      "~~~\n",
      "Year page visited: \n",
      "2018\n",
      "Hyperlinks: \n",
      "0\n",
      "~~~\n",
      "Year page visited: \n",
      "2017\n",
      "Hyperlinks: \n",
      "0\n",
      "~~~\n",
      "Year page visited: \n",
      "2016\n",
      "Hyperlinks: \n",
      "1\n",
      "~~~\n",
      "Year page visited: \n",
      "2015\n",
      "Hyperlinks: \n",
      "1\n",
      "~~~\n",
      "Year page visited: \n",
      "2014\n",
      "Hyperlinks: \n",
      "1\n",
      "~~~\n",
      "Year page visited: \n",
      "2013\n",
      "Hyperlinks: \n",
      "2\n",
      "~~~\n",
      "Year page visited: \n",
      "2012\n",
      "Hyperlinks: \n",
      "2\n",
      "~~~\n",
      "Year page visited: \n",
      "2011\n",
      "Hyperlinks: \n",
      "4\n",
      "~~~\n",
      "Year page visited: \n",
      "2010\n",
      "Hyperlinks: \n",
      "3\n",
      "~~~\n",
      "Year page visited: \n",
      "2009\n",
      "Hyperlinks: \n",
      "4\n",
      "~~~\n",
      "Year page visited: \n",
      "2008\n",
      "Hyperlinks: \n",
      "6\n",
      "~~~\n",
      "Year page visited: \n",
      "2007\n",
      "Hyperlinks: \n",
      "3\n",
      "~~~\n",
      "Year page visited: \n",
      "2006\n",
      "Hyperlinks: \n",
      "3\n",
      "~~~\n",
      "Year page visited: \n",
      "2005\n",
      "Hyperlinks: \n",
      "4\n",
      "~~~\n",
      "Year page visited: \n",
      "2004\n",
      "Hyperlinks: \n",
      "7\n",
      "~~~\n",
      "Year page visited: \n",
      "2003\n",
      "Hyperlinks: \n",
      "4\n",
      "~~~\n",
      "Year page visited: \n",
      "2002\n",
      "Hyperlinks: \n",
      "6\n",
      "~~~\n",
      "Year page visited: \n",
      "2001\n",
      "Hyperlinks: \n",
      "8\n",
      "~~~\n",
      "Year page visited: \n",
      "2000\n",
      "Hyperlinks: \n",
      "5\n",
      "~~~\n",
      "Year page visited: \n",
      "1999\n",
      "Hyperlinks: \n",
      "5\n",
      "~~~\n",
      "Year page visited: \n",
      "1998\n",
      "Hyperlinks: \n",
      "3\n",
      "~~~\n",
      "Year page visited: \n",
      "1997\n",
      "Hyperlinks: \n",
      "6\n",
      "~~~\n",
      "Year page visited: \n",
      "1996\n",
      "Hyperlinks: \n",
      "5\n",
      "~~~\n",
      "Year page visited: \n",
      "1995\n",
      "Hyperlinks: \n",
      "6\n",
      "~~~\n",
      "Year page visited: \n",
      "1994\n",
      "Hyperlinks: \n",
      "6\n",
      "~~~\n",
      "Year page visited: \n",
      "1993\n",
      "Hyperlinks: \n",
      "9\n",
      "~~~\n"
     ]
    }
   ],
   "source": [
    "#collect a list of 100 hyperlinks related to criminal cases\n",
    "hyperlinks=[]\n",
    "totalcasesfound=0\n",
    "years = [year for year in range (2019,1970,-1)]\n",
    "for year in years:\n",
    "    url = buildurl(year)\n",
    "    response = requests.get(url)\n",
    "    \n",
    "    #collect all of the h3's - these contain hyperlinks to the cases\n",
    "    soup_object = BeautifulSoup(response.text, 'html.parser')\n",
    "    findresult=soup_object.findAll(\"h3\")\n",
    "    \n",
    "    #iterate through h3's and take the href extension\n",
    "    for item in findresult:\n",
    "        hyperlinks.append(item.find(\"a\")['href'])\n",
    "    \n",
    "    print(\"Year page visited: \")\n",
    "    print(year)\n",
    "    print(\"Hyperlinks: \")\n",
    "    print(len(findresult))\n",
    "    print('~~~')\n",
    "    sleep(1)\n",
    "    \n",
    "    totalcasesfound = totalcasesfound+len(findresult)\n",
    "    \n",
    "    if totalcasesfound > 100:\n",
    "        break\n",
    "\n",
    "hyperlinksjson = {\"hyperlinks_tort\":hyperlinks}        \n",
    "\n",
    "with open('tort_hyperlinks.txt', 'w') as outfile:\n",
    "    json.dump(hyperlinksjson, outfile)"
   ]
  },
  {
   "cell_type": "code",
   "execution_count": 5,
   "metadata": {},
   "outputs": [
    {
     "data": {
      "text/plain": [
       "104"
      ]
     },
     "execution_count": 5,
     "metadata": {},
     "output_type": "execute_result"
    }
   ],
   "source": [
    "len(hyperlinks)"
   ]
  },
  {
   "cell_type": "code",
   "execution_count": 49,
   "metadata": {},
   "outputs": [
    {
     "data": {
      "text/plain": [
       "39"
      ]
     },
     "execution_count": 49,
     "metadata": {},
     "output_type": "execute_result"
    }
   ],
   "source": [
    "years = [year for year in range (1915,1876,-1)]\n",
    "len(years)\n"
   ]
  },
  {
   "cell_type": "code",
   "execution_count": 18,
   "metadata": {},
   "outputs": [],
   "source": [
    "with open('TestData/final_project_data/SCChyperlinks.txt', 'w') as outfile:\n",
    "    json.dump(scchyperlinks, outfile)"
   ]
  },
  {
   "cell_type": "code",
   "execution_count": 17,
   "metadata": {},
   "outputs": [],
   "source": [
    "scchyperlinks = scclinks[\"SCChyperlinks\"][:100]"
   ]
  },
  {
   "cell_type": "code",
   "execution_count": null,
   "metadata": {},
   "outputs": [],
   "source": []
  },
  {
   "cell_type": "code",
   "execution_count": null,
   "metadata": {},
   "outputs": [],
   "source": []
  }
 ],
 "metadata": {
  "kernelspec": {
   "display_name": "Python 3",
   "language": "python",
   "name": "python3"
  },
  "language_info": {
   "codemirror_mode": {
    "name": "ipython",
    "version": 3
   },
   "file_extension": ".py",
   "mimetype": "text/x-python",
   "name": "python",
   "nbconvert_exporter": "python",
   "pygments_lexer": "ipython3",
   "version": "3.7.3"
  }
 },
 "nbformat": 4,
 "nbformat_minor": 2
}
