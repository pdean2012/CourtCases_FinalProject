{
 "cells": [
  {
   "cell_type": "code",
   "execution_count": 38,
   "metadata": {},
   "outputs": [],
   "source": [
    "import json\n",
    "import re"
   ]
  },
  {
   "cell_type": "code",
   "execution_count": null,
   "metadata": {},
   "outputs": [],
   "source": [
    "#### This file is to take the criminal_cases_info and tax_cases_info, as well as the actual text of the cases,\n",
    "#### and combine it all together into one JSON file.\n",
    "#### Then with that JSON file we will later perform TFIDF and Naive Bayes analysis"
   ]
  },
  {
   "cell_type": "code",
   "execution_count": 11,
   "metadata": {},
   "outputs": [],
   "source": [
    "with open(\"Data/criminal_cases_info.txt\") as json_file:\n",
    "            crim_stats =  json.load(json_file)\n",
    "\n",
    "with open(\"Data/tax_cases_info.txt\") as json_file:\n",
    "            tax_stats =  json.load(json_file)"
   ]
  },
  {
   "cell_type": "code",
   "execution_count": 39,
   "metadata": {},
   "outputs": [],
   "source": [
    "#creating a few functions to help clean the text data when it is read into the list\n",
    "def concat_rows(txt_file):\n",
    "    \"\"\"Takes a text file of a case, and returns one string of everything. 1 space after each row\"\"\"\n",
    "    all_text = \"\"\n",
    "    for row in txt_file:\n",
    "        all_text = all_text + row.strip() + \" \"\n",
    "    return all_text\n",
    "\n",
    "def remove_garbage(all_text):\n",
    "    \"\"\"Takes a full string (i.e. all_text from concat_rows() and removes garbage like \\xa0)\"\"\"\n",
    "    #replaces them with \" \" in order to avoid concatenating words e.g. sometimes its like McLachlin\\xa0C.J.\n",
    "    garbage = [\"\\xa0\"]\n",
    "    for item in garbage:\n",
    "        all_text = re.sub(item,\" \",all_text)\n",
    "    return all_text\n"
   ]
  },
  {
   "cell_type": "code",
   "execution_count": 12,
   "metadata": {},
   "outputs": [],
   "source": [
    "#making it just 100 cases each\n",
    "crim_stats = crim_stats[:100]\n",
    "tax_stats = tax_stats[:100]"
   ]
  },
  {
   "cell_type": "code",
   "execution_count": 43,
   "metadata": {},
   "outputs": [],
   "source": [
    "#I want to zip up the crim stats and tax stats together, taking just\n",
    "#the case code, case name, URL, crim or tax category, and case text\n",
    "cases_clean=[]\n",
    "for i in range (0,100):\n",
    "    #create a dict of the stats of this case we want to keep\n",
    "    #1 for crim 1 for tax\n",
    "    crim_entry={}\n",
    "    tax_entry={}\n",
    "    \n",
    "    #put data into the entries\n",
    "    ##case_code\n",
    "    crim_entry.update({\"case_code\":crim_stats[i][\"case_code\"]})\n",
    "    tax_entry.update({\"case_code\":tax_stats[i][\"case_code\"]})\n",
    "    \n",
    "    ##case_name\n",
    "    crim_entry.update({\"case_name\":crim_stats[i][\"case_name\"]})\n",
    "    tax_entry.update({\"case_name\":tax_stats[i][\"case_name\"]})\n",
    "    \n",
    "    ##url\n",
    "    crim_entry.update({\"url\":crim_stats[i][\"url\"]})\n",
    "    tax_entry.update({\"url\":tax_stats[i][\"url\"]})\n",
    "    \n",
    "    ##crim or tax category\n",
    "    crim_entry.update({\"crim_or_tax\":crim_stats[i][\"crim_tax\"]})\n",
    "    tax_entry.update({\"crim_or_tax\":tax_stats[i][\"crim_tax\"]})\n",
    "    \n",
    "    ##actual text of the case\n",
    "    #crim\n",
    "    with open (\"Data/criminal_cases/\"+crim_stats[i][\"case_code\"]+\".txt\",'r') as file_object:\n",
    "        crim_text = concat_rows(file_object)\n",
    "    crim_text = remove_garbage(crim_text)\n",
    "    \n",
    "    crim_entry.update({\"case_text\":crim_text})\n",
    "    \n",
    "    #tax\n",
    "    with open (\"Data/tax_cases/\"+tax_stats[i][\"case_code\"]+\".txt\",'r') as file_object:\n",
    "        tax_text = concat_rows(file_object)\n",
    "    tax_text = remove_garbage(tax_text)\n",
    "    \n",
    "    tax_entry.update({\"case_text\":tax_text})    \n",
    "    \n",
    "    #add entries to the master list (cases_clean)\n",
    "    cases_clean.append(crim_entry)\n",
    "    cases_clean.append(tax_entry)\n",
    "    \n",
    "#print the master list to txt file\n",
    "with open(\"Data/all_cases_with_text.txt\", 'w') as outfile:\n",
    "    json.dump(cases_clean, outfile)\n",
    "    "
   ]
  },
  {
   "cell_type": "code",
   "execution_count": 44,
   "metadata": {},
   "outputs": [
    {
     "data": {
      "text/plain": [
       "200"
      ]
     },
     "execution_count": 44,
     "metadata": {},
     "output_type": "execute_result"
    }
   ],
   "source": [
    "len(cases_clean)"
   ]
  },
  {
   "cell_type": "code",
   "execution_count": null,
   "metadata": {},
   "outputs": [],
   "source": []
  }
 ],
 "metadata": {
  "kernelspec": {
   "display_name": "Python 3",
   "language": "python",
   "name": "python3"
  },
  "language_info": {
   "codemirror_mode": {
    "name": "ipython",
    "version": 3
   },
   "file_extension": ".py",
   "mimetype": "text/x-python",
   "name": "python",
   "nbconvert_exporter": "python",
   "pygments_lexer": "ipython3",
   "version": "3.7.3"
  }
 },
 "nbformat": 4,
 "nbformat_minor": 2
}
